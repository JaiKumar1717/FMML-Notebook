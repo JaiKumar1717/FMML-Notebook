{
  "nbformat": 4,
  "nbformat_minor": 0,
  "metadata": {
    "colab": {
      "provenance": [],
      "authorship_tag": "ABX9TyPYIFHxc4yaVM4nEFJTUuUb",
      "include_colab_link": true
    },
    "kernelspec": {
      "name": "python3",
      "display_name": "Python 3"
    },
    "language_info": {
      "name": "python"
    }
  },
  "cells": [
    {
      "cell_type": "markdown",
      "metadata": {
        "id": "view-in-github",
        "colab_type": "text"
      },
      "source": [
        "<a href=\"https://colab.research.google.com/github/JaiKumar1717/FMML-Notebook/blob/main/Lab_1_Assignment.ipynb\" target=\"_parent\"><img src=\"https://colab.research.google.com/assets/colab-badge.svg\" alt=\"Open In Colab\"/></a>"
      ]
    },
    {
      "cell_type": "code",
      "execution_count": null,
      "metadata": {
        "id": "39ek44tEH8Qd"
      },
      "outputs": [],
      "source": [
        "import numpy as np\n",
        "import matplotlib.pyplot as matplt"
      ]
    },
    {
      "cell_type": "markdown",
      "source": [
        "Matrix Transpose"
      ],
      "metadata": {
        "id": "9t3o2uPm6Gk2"
      }
    },
    {
      "cell_type": "code",
      "source": [
        "# transpose of matrix as nested list\n",
        "a = [[1, 2, 3, 4, 5], [6, 7, 8, 9, 0]]\n",
        "b = np.transpose(a)\n",
        "print('a\\n',a)\n",
        "print('b\\n',b)"
      ],
      "metadata": {
        "id": "iXeCPlDj6MEY",
        "outputId": "63d20d59-da15-406a-ca92-bce53e31bb45",
        "colab": {
          "base_uri": "https://localhost:8080/"
        }
      },
      "execution_count": null,
      "outputs": [
        {
          "output_type": "stream",
          "name": "stdout",
          "text": [
            "a\n",
            " [[1, 2, 3, 4, 5], [6, 7, 8, 9, 0]]\n",
            "b\n",
            " [[1 6]\n",
            " [2 7]\n",
            " [3 8]\n",
            " [4 9]\n",
            " [5 0]]\n"
          ]
        }
      ]
    },
    {
      "cell_type": "markdown",
      "source": [
        "If the matrix is a NumPy array, it can be treated as an object and method T can be applied over it as follows."
      ],
      "metadata": {
        "id": "IAHikbIG92T6"
      }
    },
    {
      "cell_type": "code",
      "source": [
        "#transpose of matrix (as Numpy array)\n",
        "print(\"Matrix and its Transpose\")\n",
        "a = np.array([[1, 2, 3, 4, 5], [6, 7, 8, 9, 0]])\n",
        "b = a.T\n",
        "print('a\\n',a)\n",
        "print('b\\n',b)"
      ],
      "metadata": {
        "id": "6cEZshk_96UD",
        "outputId": "710f2fd8-ce55-4510-d6c6-52dc62271f29",
        "colab": {
          "base_uri": "https://localhost:8080/"
        }
      },
      "execution_count": null,
      "outputs": [
        {
          "output_type": "stream",
          "name": "stdout",
          "text": [
            "Matrix and its Transpose\n",
            "a\n",
            " [[1 2 3 4 5]\n",
            " [6 7 8 9 0]]\n",
            "b\n",
            " [[1 6]\n",
            " [2 7]\n",
            " [3 8]\n",
            " [4 9]\n",
            " [5 0]]\n"
          ]
        }
      ]
    },
    {
      "cell_type": "markdown",
      "source": [
        "\n",
        "The dot method of NumPy performs dot-matrix product (scalar product) for 1D or higher dimensional arrays. If the inputs are scalars (numbers), it performs multiplication."
      ],
      "metadata": {
        "id": "nLmj5VPA-fU7"
      }
    },
    {
      "cell_type": "code",
      "source": [
        "#Scalars\n",
        "a = 5\n",
        "b = 4\n",
        "z = np.dot(a,b)\n",
        "print(z)"
      ],
      "metadata": {
        "id": "CHAKHB5Z-h0P",
        "outputId": "79357ef7-fc9e-4819-b9d6-9c6cacb0935e",
        "colab": {
          "base_uri": "https://localhost:8080/"
        }
      },
      "execution_count": null,
      "outputs": [
        {
          "output_type": "stream",
          "name": "stdout",
          "text": [
            "20\n"
          ]
        }
      ]
    },
    {
      "cell_type": "code",
      "source": [
        "z = a*b\n",
        "print(z)"
      ],
      "metadata": {
        "id": "iwFXe0h1-uLp",
        "outputId": "cbf8720b-d9eb-4d16-b4ac-df18cbbca6f0",
        "colab": {
          "base_uri": "https://localhost:8080/"
        }
      },
      "execution_count": null,
      "outputs": [
        {
          "output_type": "stream",
          "name": "stdout",
          "text": [
            "20\n"
          ]
        }
      ]
    },
    {
      "cell_type": "markdown",
      "source": [
        "In the case of one- or higher-dimensional arrays, the inputs can be either NumPy arrays, Python arrays, Python lists or Python’s nested lists."
      ],
      "metadata": {
        "id": "eiF2hWUS-1Gb"
      }
    },
    {
      "cell_type": "code",
      "source": [
        "# 1D array or vectors\n",
        "a = np.array([4,6,3])\n",
        "b = np.array([5,7,9])\n",
        "z = np.dot(a,b)\n",
        "print(z)"
      ],
      "metadata": {
        "id": "M7jAycYj-5T9",
        "outputId": "e42a1e46-6371-4579-e99c-5f5f09c8980b",
        "colab": {
          "base_uri": "https://localhost:8080/"
        }
      },
      "execution_count": null,
      "outputs": [
        {
          "output_type": "stream",
          "name": "stdout",
          "text": [
            "89\n"
          ]
        }
      ]
    },
    {
      "cell_type": "code",
      "source": [
        "#2D arrays or matrices\n",
        "a = [[3,5,4],[6,-7,8],[7,4,3]]\n",
        "b = [[4,6,2],[3,-5,7],[8,0,1]]\n",
        "z = np.dot(a,b)\n",
        "print(z)"
      ],
      "metadata": {
        "id": "qr-7mbao_SWZ",
        "outputId": "374ac0d8-9302-40f2-9f88-b514c762a86d",
        "colab": {
          "base_uri": "https://localhost:8080/"
        }
      },
      "execution_count": null,
      "outputs": [
        {
          "output_type": "stream",
          "name": "stdout",
          "text": [
            "[[ 59  -7  45]\n",
            " [ 67  71 -29]\n",
            " [ 64  22  45]]\n"
          ]
        }
      ]
    },
    {
      "cell_type": "markdown",
      "source": [
        "We can obtained the same result using np.matmul()."
      ],
      "metadata": {
        "id": "OWauasLV_v01"
      }
    },
    {
      "cell_type": "code",
      "source": [
        "z = np.matmul(a,b)\n",
        "print(z)"
      ],
      "metadata": {
        "id": "_tXsxrJw_1dC",
        "outputId": "55469683-47da-4a87-9c0c-5e446597af05",
        "colab": {
          "base_uri": "https://localhost:8080/"
        }
      },
      "execution_count": null,
      "outputs": [
        {
          "output_type": "stream",
          "name": "stdout",
          "text": [
            "[[ 59  -7  45]\n",
            " [ 67  71 -29]\n",
            " [ 64  22  45]]\n"
          ]
        }
      ]
    },
    {
      "cell_type": "markdown",
      "source": [
        "> Numpy Arrays\n",
        "\n",
        "A NumPy array is a Numpy object upon which the dot method can be performed as below. However, this method accepts only NumPy arrays to operate on."
      ],
      "metadata": {
        "id": "rkJxwjNu_9tD"
      }
    },
    {
      "cell_type": "code",
      "source": [
        "# convert lists into Numpy arrays\n",
        "newa = np.array(a)\n",
        "newb = np.array(b)\n",
        "z = newa.dot(newb)\n",
        "print(z)"
      ],
      "metadata": {
        "id": "v_Zt7YWVAAy6",
        "outputId": "a863909c-b1af-46fb-8b99-78fd8be94143",
        "colab": {
          "base_uri": "https://localhost:8080/"
        }
      },
      "execution_count": null,
      "outputs": [
        {
          "output_type": "stream",
          "name": "stdout",
          "text": [
            "[[ 59  -7  45]\n",
            " [ 67  71 -29]\n",
            " [ 64  22  45]]\n"
          ]
        }
      ]
    },
    {
      "cell_type": "markdown",
      "source": [
        "\n",
        ">The multi_dot method\n",
        "\n",
        "It performs dot (scalar) product with 2 or more input matrices. First and last arrays can be either 1D or 2D arrays. However, the dimensions of the matrices must suit subsequent scalar matrix multiplication."
      ],
      "metadata": {
        "id": "eb0LUWmiRRDj"
      }
    },
    {
      "cell_type": "code",
      "source": [
        " # matrices with random integers: entries ranging from -4 to 4\n",
        " a = np.random.randint(-4,4,(500,5))\n",
        " b = np.random.randint(-4,4,(5,1000))\n",
        " c = np.random.randint(-4,4,(1000,10))\n",
        " d = np.random.randint(-4,4,(10,2000))\n",
        " e = np.random.randint(-4,4,(2000,200))\n",
        "\n",
        " # perform multiple matrix multiplication\n",
        " z = np.linalg.multi_dot([a,b,c,d,e])"
      ],
      "metadata": {
        "id": "NvvY1g1ARXQd"
      },
      "execution_count": null,
      "outputs": []
    }
  ]
}